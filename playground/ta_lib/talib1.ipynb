{
 "cells": [
  {
   "cell_type": "code",
   "execution_count": 5,
   "metadata": {},
   "outputs": [
    {
     "name": "stdout",
     "output_type": "stream",
     "text": [
      "[*********************100%***********************]  1 of 1 completed\n"
     ]
    }
   ],
   "source": [
    "import talib as ta \n",
    "import matplotlib.pyplot as plt \n",
    "plt.style.use('bmh')\n",
    "import yfinance as yf \n",
    "\n",
    "aapl = yf.download('AAPL', '2019-1-1','2019-12-27')"
   ]
  },
  {
   "cell_type": "code",
   "execution_count": null,
   "metadata": {},
   "outputs": [],
   "source": [
    "\n",
    "aapl['Simple MA'] = ta.SMA(aapl['Close'],14)\n",
    "aapl['EMA'] = ta.EMA(aapl['Close'], timeperiod = 14)\n",
    "\n",
    "# Plot aapl\n",
    "[['Close','Simple MA','EMA']].plot(figsize=(15,15)) \n",
    "plt.show()"
   ]
  }
 ],
 "metadata": {
  "kernelspec": {
   "display_name": ".venv",
   "language": "python",
   "name": "python3"
  },
  "language_info": {
   "codemirror_mode": {
    "name": "ipython",
    "version": 3
   },
   "file_extension": ".py",
   "mimetype": "text/x-python",
   "name": "python",
   "nbconvert_exporter": "python",
   "pygments_lexer": "ipython3",
   "version": "3.10.0"
  },
  "orig_nbformat": 4
 },
 "nbformat": 4,
 "nbformat_minor": 2
}
