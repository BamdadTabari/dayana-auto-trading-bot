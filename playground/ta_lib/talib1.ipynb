{
 "cells": [
  {
   "cell_type": "code",
   "execution_count": null,
   "metadata": {},
   "outputs": [],
   "source": [
    "import talib as ta \n",
    "import matplotlib.pyplot as plt \n",
    "plt.style.use('bmh')\n",
    "import yfinance as yf \n",
    "aapl = yf.download('AAPL', '2019-1-1','2019-12-27')"
   ]
  }
 ],
 "metadata": {
  "language_info": {
   "name": "python"
  },
  "orig_nbformat": 4
 },
 "nbformat": 4,
 "nbformat_minor": 2
}
