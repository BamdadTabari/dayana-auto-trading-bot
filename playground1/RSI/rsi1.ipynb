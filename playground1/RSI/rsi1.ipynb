{
 "cells": [
  {
   "cell_type": "code",
   "execution_count": null,
   "metadata": {},
   "outputs": [],
   "source": [
    "S.'Import pandas as pd\n",
    "import numpy as np\n",
    "from talib import RSI\n",
    "port MetaTrader5 as mt5\n"
   ]
  }
 ],
 "metadata": {
  "language_info": {
   "name": "python"
  },
  "orig_nbformat": 4
 },
 "nbformat": 4,
 "nbformat_minor": 2
}
